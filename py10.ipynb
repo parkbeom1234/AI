{
 "cells": [
  {
   "cell_type": "code",
   "execution_count": 2,
   "id": "3b404042-e0ad-424e-acfb-72745dd31213",
   "metadata": {},
   "outputs": [
    {
     "name": "stdout",
     "output_type": "stream",
     "text": [
      "Collecting netifaces\n",
      "  Using cached netifaces-0.11.0.tar.gz (30 kB)\n",
      "  Preparing metadata (setup.py) ... \u001b[?25ldone\n",
      "\u001b[?25hBuilding wheels for collected packages: netifaces\n",
      "  Building wheel for netifaces (setup.py) ... \u001b[?25lerror\n",
      "  \u001b[1;31merror\u001b[0m: \u001b[1msubprocess-exited-with-error\u001b[0m\n",
      "  \n",
      "  \u001b[31m×\u001b[0m \u001b[32mpython setup.py bdist_wheel\u001b[0m did not run successfully.\n",
      "  \u001b[31m│\u001b[0m exit code: \u001b[1;36m1\u001b[0m\n",
      "  \u001b[31m╰─>\u001b[0m \u001b[31m[15 lines of output]\u001b[0m\n",
      "  \u001b[31m   \u001b[0m running bdist_wheel\n",
      "  \u001b[31m   \u001b[0m running build\n",
      "  \u001b[31m   \u001b[0m running build_ext\n",
      "  \u001b[31m   \u001b[0m checking for getifaddrs...not found.\n",
      "  \u001b[31m   \u001b[0m checking for getnameinfo...not found.\n",
      "  \u001b[31m   \u001b[0m checking for socket IOCTLs...not found.\n",
      "  \u001b[31m   \u001b[0m checking for optional header files...none found.\n",
      "  \u001b[31m   \u001b[0m checking whether struct sockaddr has a length field...no.\n",
      "  \u001b[31m   \u001b[0m checking which sockaddr_xxx structs are defined...none!\n",
      "  \u001b[31m   \u001b[0m checking for routing socket support...no.\n",
      "  \u001b[31m   \u001b[0m checking for sysctl(CTL_NET...) support...no.\n",
      "  \u001b[31m   \u001b[0m checking for netlink support...no.\n",
      "  \u001b[31m   \u001b[0m building 'netifaces' extension\n",
      "  \u001b[31m   \u001b[0m gcc -pthread -B /home/b202301931/anaconda3/envs/py10/compiler_compat -Wno-unused-result -Wsign-compare -DNDEBUG -fwrapv -O2 -Wall -fPIC -O2 -isystem /home/b202301931/anaconda3/envs/py10/include -fPIC -O2 -isystem /home/b202301931/anaconda3/envs/py10/include -fPIC -DNETIFACES_VERSION=0.11.0 -I/home/b202301931/anaconda3/envs/py10/include/python3.10 -c netifaces.c -o build/temp.linux-x86_64-cpython-310/netifaces.o\n",
      "  \u001b[31m   \u001b[0m error: command 'gcc' failed: No such file or directory\n",
      "  \u001b[31m   \u001b[0m \u001b[31m[end of output]\u001b[0m\n",
      "  \n",
      "  \u001b[1;35mnote\u001b[0m: This error originates from a subprocess, and is likely not a problem with pip.\n",
      "\u001b[31m  ERROR: Failed building wheel for netifaces\u001b[0m\u001b[31m\n",
      "\u001b[0m\u001b[?25h  Running setup.py clean for netifaces\n",
      "Failed to build netifaces\n",
      "\u001b[31mERROR: ERROR: Failed to build installable wheels for some pyproject.toml based projects (netifaces)\u001b[0m\u001b[31m\n",
      "\u001b[0m"
     ]
    }
   ],
   "source": [
    "!pip install netifaces"
   ]
  },
  {
   "cell_type": "code",
   "execution_count": 6,
   "id": "cddd1922-0020-4429-be85-6dccd9a5ee82",
   "metadata": {},
   "outputs": [
    {
     "name": "stdout",
     "output_type": "stream",
     "text": [
      "b202301931\n",
      "3.9.20 (main, Oct  3 2024, 07:27:41) \n",
      "[GCC 11.2.0]\n",
      "lo: 127.0.0.1\n",
      "enp0s3: 192.168.200.124\n",
      "MAC: 6f:b7:fd:f1:21:3c\n"
     ]
    }
   ],
   "source": [
    "import os\n",
    "import sys\n",
    "import uuid\n",
    "from netifaces import interfaces, ifaddresses, AF_INET\n",
    "\n",
    "print(os.getlogin())\n",
    "print(sys.version)\n",
    "\n",
    "for ifaceName in interfaces():\n",
    "    addresses = [i['addr'] for i in ifaddresses(ifaceName).setdefault(AF_INET, [{'addr':'No IP addr'}] )]\n",
    "    print('%s: %s' % (ifaceName, ', '.join(addresses)))\n",
    "\n",
    "print ('MAC:',':'.join(['{:02x}'.format((uuid.getnode() >> ele) & 0xff)\n",
    "for ele in range(0,8*6,8)][::-1]))\n"
   ]
  },
  {
   "cell_type": "code",
   "execution_count": 3,
   "id": "757709c8-ae93-4487-91d6-6052f4d43c48",
   "metadata": {},
   "outputs": [
    {
     "name": "stdout",
     "output_type": "stream",
     "text": [
      "Requirement already satisfied: numpy in ./anaconda3/envs/py39/lib/python3.9/site-packages (2.0.2)\n"
     ]
    }
   ],
   "source": [
    "!pip install numpy"
   ]
  },
  {
   "cell_type": "code",
   "execution_count": 5,
   "id": "8098ccae-1c5b-4e55-b54d-9c86bc6abbf6",
   "metadata": {},
   "outputs": [
    {
     "name": "stdout",
     "output_type": "stream",
     "text": [
      "[[ 0  1  2  3  4]\n",
      " [ 5  6  7  8  9]\n",
      " [10 11 12 13 14]]\n"
     ]
    }
   ],
   "source": [
    "import numpy as np\n",
    "\n",
    "\n",
    "a = np.arange(15).reshape(3, 5)\n",
    "print(a)"
   ]
  },
  {
   "cell_type": "code",
   "execution_count": 9,
   "id": "dc594d54-9e75-48b7-855f-6b600f960fb1",
   "metadata": {},
   "outputs": [
    {
     "name": "stdout",
     "output_type": "stream",
     "text": [
      "Requirement already satisfied: module_name in ./anaconda3/envs/py39/lib/python3.9/site-packages (0.6.0)\n",
      "Note: you may need to restart the kernel to use updated packages.\n"
     ]
    }
   ],
   "source": [
    "pip install module_name"
   ]
  },
  {
   "cell_type": "code",
   "execution_count": null,
   "id": "a561a17d-6051-4add-9ef2-2895dff16896",
   "metadata": {},
   "outputs": [],
   "source": []
  }
 ],
 "metadata": {
  "kernelspec": {
   "display_name": "py10",
   "language": "python",
   "name": "py10"
  },
  "language_info": {
   "codemirror_mode": {
    "name": "ipython",
    "version": 3
   },
   "file_extension": ".py",
   "mimetype": "text/x-python",
   "name": "python",
   "nbconvert_exporter": "python",
   "pygments_lexer": "ipython3",
   "version": "3.9.20"
  }
 },
 "nbformat": 4,
 "nbformat_minor": 5
}
