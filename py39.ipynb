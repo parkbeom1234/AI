{
 "cells": [
  {
   "cell_type": "code",
   "execution_count": 6,
   "id": "3bca5af3-a2cd-40f3-a808-4d5fbffced82",
   "metadata": {},
   "outputs": [
    {
     "name": "stdout",
     "output_type": "stream",
     "text": [
      "Requirement already satisfied: netifaces in ./anaconda3/envs/py10/lib/python3.10/site-packages (0.11.0)\n"
     ]
    }
   ],
   "source": [
    "!pip install netifaces"
   ]
  },
  {
   "cell_type": "code",
   "execution_count": 7,
   "id": "32e911ee-4a0d-44a8-ae68-9a0f7e49335b",
   "metadata": {},
   "outputs": [
    {
     "name": "stdout",
     "output_type": "stream",
     "text": [
      "b202301931\n",
      "3.9.20 (main, Oct  3 2024, 07:27:41) \n",
      "[GCC 11.2.0]\n",
      "lo: 127.0.0.1\n",
      "enp0s3: 192.168.200.124\n",
      "MAC: 6f:b7:fd:f1:21:3c\n"
     ]
    }
   ],
   "source": [
    "import os\n",
    "import sys\n",
    "import uuid\n",
    "from netifaces import interfaces, ifaddresses, AF_INET\n",
    "\n",
    "print(os.getlogin())\n",
    "print(sys.version)\n",
    "\n",
    "for ifaceName in interfaces():\n",
    "    addresses = [i['addr'] for i in ifaddresses(ifaceName).setdefault(AF_INET, [{'addr':'No IP addr'}] )]\n",
    "    print('%s: %s' % (ifaceName, ', '.join(addresses)))\n",
    "\n",
    "print ('MAC:',':'.join(['{:02x}'.format((uuid.getnode() >> ele) & 0xff)\n",
    "for ele in range(0,8*6,8)][::-1]))\n"
   ]
  },
  {
   "cell_type": "code",
   "execution_count": null,
   "id": "61d1ee77-2053-4067-afd2-033fb267fbf7",
   "metadata": {},
   "outputs": [],
   "source": []
  }
 ],
 "metadata": {
  "kernelspec": {
   "display_name": "py39",
   "language": "python",
   "name": "py39"
  },
  "language_info": {
   "codemirror_mode": {
    "name": "ipython",
    "version": 3
   },
   "file_extension": ".py",
   "mimetype": "text/x-python",
   "name": "python",
   "nbconvert_exporter": "python",
   "pygments_lexer": "ipython3",
   "version": "3.9.20"
  }
 },
 "nbformat": 4,
 "nbformat_minor": 5
}
