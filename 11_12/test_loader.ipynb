{
 "cells": [
  {
   "cell_type": "code",
   "execution_count": 1,
   "id": "a430f3e6-8875-4694-8e40-4b07b5f3b2de",
   "metadata": {},
   "outputs": [
    {
     "name": "stdout",
     "output_type": "stream",
     "text": [
      "/home/b202301931/11_12\n"
     ]
    }
   ],
   "source": [
    "\n",
    "# loader()\n",
    "import os\n",
    "print(os.getcwd())\n"
   ]
  },
  {
   "cell_type": "code",
   "execution_count": 26,
   "id": "359591bd-b17b-4bbd-9227-073b82bd51f3",
   "metadata": {},
   "outputs": [
    {
     "name": "stdout",
     "output_type": "stream",
     "text": [
      "Requirement already satisfied: pypdf in /home/b202301931/anaconda3/envs/py39/lib/python3.9/site-packages (5.1.0)\n",
      "Requirement already satisfied: typing_extensions>=4.0 in /home/b202301931/anaconda3/envs/py39/lib/python3.9/site-packages (from pypdf) (4.12.2)\n",
      "Note: you may need to restart the kernel to use updated packages.\n"
     ]
    }
   ],
   "source": [
    "pip install pypdf"
   ]
  },
  {
   "cell_type": "code",
   "execution_count": 2,
   "id": "d44373c2-acd9-4e65-b4e7-07ff2261b525",
   "metadata": {},
   "outputs": [
    {
     "data": {
      "text/plain": [
       "[Document(metadata={'source': './news_data.txt'}, page_content='가나다라마바사가나다라마바사가나다라마바사\\n가나다라마바사가나다라마바사\\n가나다라마바사\\n가나다라마바사')]"
      ]
     },
     "execution_count": 2,
     "metadata": {},
     "output_type": "execute_result"
    }
   ],
   "source": [
    "from langchain_community.document_loaders import TextLoader\n",
    "\n",
    "loader = TextLoader(\"./news_data.txt\")\n",
    "loader.load()"
   ]
  },
  {
   "cell_type": "code",
   "execution_count": 3,
   "id": "aa415805-46c0-4052-b299-975f2091e127",
   "metadata": {},
   "outputs": [],
   "source": [
    "from langchain_community.document_loaders import PyPDFLoader\n",
    "\n",
    "loader = PyPDFLoader(\"Global11_demo.pdf\")\n",
    "pages = loader.load_and_split()"
   ]
  },
  {
   "cell_type": "code",
   "execution_count": 4,
   "id": "3c76a2b5-4803-4f92-a8ba-cec402eb6f4c",
   "metadata": {},
   "outputs": [
    {
     "data": {
      "text/plain": [
       "Document(metadata={'source': 'Global11_demo.pdf', 'page': 0}, page_content='Global11 demo \\nThis document describes how Global11_demo Data Modeler design was built. \\nI. Schema setup \\nInstall global schema as it’s described here \\nhttp://www.oracle.com/technetwork/database/options/olap/global-11g-readme-082667.html \\nand using data here http://www.oracle.com/technetwork/database/enterprise-\\nedition/downloads/global-11g-schema-1-128202.zip \\nDo not create analytic workspace. \\nAdditional privileges need to be granted to used user for Oracle 12 c : \\ngrant create view, create cube, create cube dimension, create cube measure folder to global; \\nChanges introduced to GLOBAL schema: \\n1) Two new columns added in UNITS_FACT table - to illustrate role playing dimensions \\nalter table global.units_fact add SHIP_MONTH_ID varchar2(7); \\nalter table global.units_fact add DELIVERY_MONTH_ID varchar2(7); \\nupdate  global.units_fact set SHIP_MONTH_ID = MONTH_ID; \\nupdate  global.units_fact set DELIVERY_MONTH_ID = MONTH_ID; \\n2) New table is created using following statement: \\ncreate table GLOBAL.cust_account AS \\nSELECT GLOBAL.CUSTOMER_DIM.SHIP_TO_ID, \\n  GLOBAL.CUSTOMER_DIM.SHIP_TO_DSC, \\n  GLOBAL.CUSTOMER_DIM.SHIP_TO_DSC_FRENCH, \\n  GLOBAL.CUSTOMER_DIM.SHIP_TO_DSC_DUTCH, \\n  GLOBAL.ACCOUNT.ACCOUNT_ID, \\n  GLOBAL.ACCOUNT.FIRSTNAME, \\n  GLOBAL.ACCOUNT.LASTNAME, \\n  GLOBAL.ACCOUNT.ADDRESS, \\n  GLOBAL.ACCOUNT.ADDRESS2, \\n  GLOBAL.ACCOUNT.CITY,')"
      ]
     },
     "execution_count": 4,
     "metadata": {},
     "output_type": "execute_result"
    }
   ],
   "source": [
    "pages[0]"
   ]
  },
  {
   "cell_type": "code",
   "execution_count": 17,
   "id": "435203e9-8cb5-419a-bb37-6605705a2fa5",
   "metadata": {},
   "outputs": [
    {
     "name": "stdout",
     "output_type": "stream",
     "text": [
      "Requirement already satisfied: unstructured in /home/b202301931/anaconda3/envs/py39/lib/python3.9/site-packages (0.16.5)\n",
      "Requirement already satisfied: chardet in /home/b202301931/anaconda3/envs/py39/lib/python3.9/site-packages (from unstructured) (5.2.0)\n",
      "Requirement already satisfied: filetype in /home/b202301931/anaconda3/envs/py39/lib/python3.9/site-packages (from unstructured) (1.2.0)\n",
      "Requirement already satisfied: python-magic in /home/b202301931/anaconda3/envs/py39/lib/python3.9/site-packages (from unstructured) (0.4.27)\n",
      "Requirement already satisfied: lxml in /home/b202301931/anaconda3/envs/py39/lib/python3.9/site-packages (from unstructured) (5.3.0)\n",
      "Requirement already satisfied: nltk in /home/b202301931/anaconda3/envs/py39/lib/python3.9/site-packages (from unstructured) (3.9.1)\n",
      "Requirement already satisfied: requests in /home/b202301931/anaconda3/envs/py39/lib/python3.9/site-packages (from unstructured) (2.32.3)\n",
      "Requirement already satisfied: beautifulsoup4 in /home/b202301931/anaconda3/envs/py39/lib/python3.9/site-packages (from unstructured) (4.12.3)\n",
      "Requirement already satisfied: emoji in /home/b202301931/anaconda3/envs/py39/lib/python3.9/site-packages (from unstructured) (2.14.0)\n",
      "Requirement already satisfied: dataclasses-json in /home/b202301931/anaconda3/envs/py39/lib/python3.9/site-packages (from unstructured) (0.6.7)\n",
      "Requirement already satisfied: python-iso639 in /home/b202301931/anaconda3/envs/py39/lib/python3.9/site-packages (from unstructured) (2024.10.22)\n",
      "Requirement already satisfied: langdetect in /home/b202301931/anaconda3/envs/py39/lib/python3.9/site-packages (from unstructured) (1.0.9)\n",
      "Requirement already satisfied: numpy<2 in /home/b202301931/anaconda3/envs/py39/lib/python3.9/site-packages (from unstructured) (1.26.4)\n",
      "Requirement already satisfied: rapidfuzz in /home/b202301931/anaconda3/envs/py39/lib/python3.9/site-packages (from unstructured) (3.10.1)\n",
      "Requirement already satisfied: backoff in /home/b202301931/anaconda3/envs/py39/lib/python3.9/site-packages (from unstructured) (2.2.1)\n",
      "Requirement already satisfied: typing-extensions in /home/b202301931/anaconda3/envs/py39/lib/python3.9/site-packages (from unstructured) (4.12.2)\n",
      "Requirement already satisfied: unstructured-client in /home/b202301931/anaconda3/envs/py39/lib/python3.9/site-packages (from unstructured) (0.27.0)\n",
      "Requirement already satisfied: wrapt in /home/b202301931/anaconda3/envs/py39/lib/python3.9/site-packages (from unstructured) (1.16.0)\n",
      "Requirement already satisfied: tqdm in /home/b202301931/anaconda3/envs/py39/lib/python3.9/site-packages (from unstructured) (4.66.6)\n",
      "Requirement already satisfied: psutil in /home/b202301931/anaconda3/envs/py39/lib/python3.9/site-packages (from unstructured) (6.1.0)\n",
      "Requirement already satisfied: python-oxmsg in /home/b202301931/anaconda3/envs/py39/lib/python3.9/site-packages (from unstructured) (0.0.1)\n",
      "Requirement already satisfied: html5lib in /home/b202301931/anaconda3/envs/py39/lib/python3.9/site-packages (from unstructured) (1.1)\n",
      "Requirement already satisfied: soupsieve>1.2 in /home/b202301931/anaconda3/envs/py39/lib/python3.9/site-packages (from beautifulsoup4->unstructured) (2.6)\n",
      "Requirement already satisfied: marshmallow<4.0.0,>=3.18.0 in /home/b202301931/anaconda3/envs/py39/lib/python3.9/site-packages (from dataclasses-json->unstructured) (3.23.1)\n",
      "Requirement already satisfied: typing-inspect<1,>=0.4.0 in /home/b202301931/anaconda3/envs/py39/lib/python3.9/site-packages (from dataclasses-json->unstructured) (0.9.0)\n",
      "Requirement already satisfied: six>=1.9 in /home/b202301931/anaconda3/envs/py39/lib/python3.9/site-packages (from html5lib->unstructured) (1.16.0)\n",
      "Requirement already satisfied: webencodings in /home/b202301931/anaconda3/envs/py39/lib/python3.9/site-packages (from html5lib->unstructured) (0.5.1)\n",
      "Requirement already satisfied: click in /home/b202301931/anaconda3/envs/py39/lib/python3.9/site-packages (from nltk->unstructured) (8.1.7)\n",
      "Requirement already satisfied: joblib in /home/b202301931/anaconda3/envs/py39/lib/python3.9/site-packages (from nltk->unstructured) (1.4.2)\n",
      "Requirement already satisfied: regex>=2021.8.3 in /home/b202301931/anaconda3/envs/py39/lib/python3.9/site-packages (from nltk->unstructured) (2024.9.11)\n",
      "Requirement already satisfied: olefile in /home/b202301931/anaconda3/envs/py39/lib/python3.9/site-packages (from python-oxmsg->unstructured) (0.47)\n",
      "Requirement already satisfied: charset-normalizer<4,>=2 in /home/b202301931/anaconda3/envs/py39/lib/python3.9/site-packages (from requests->unstructured) (3.4.0)\n",
      "Requirement already satisfied: idna<4,>=2.5 in /home/b202301931/anaconda3/envs/py39/lib/python3.9/site-packages (from requests->unstructured) (3.10)\n",
      "Requirement already satisfied: urllib3<3,>=1.21.1 in /home/b202301931/anaconda3/envs/py39/lib/python3.9/site-packages (from requests->unstructured) (2.2.3)\n",
      "Requirement already satisfied: certifi>=2017.4.17 in /home/b202301931/anaconda3/envs/py39/lib/python3.9/site-packages (from requests->unstructured) (2024.8.30)\n",
      "Requirement already satisfied: cryptography>=3.1 in /home/b202301931/anaconda3/envs/py39/lib/python3.9/site-packages (from unstructured-client->unstructured) (43.0.3)\n",
      "Requirement already satisfied: eval-type-backport<0.3.0,>=0.2.0 in /home/b202301931/anaconda3/envs/py39/lib/python3.9/site-packages (from unstructured-client->unstructured) (0.2.0)\n",
      "Requirement already satisfied: httpx>=0.27.0 in /home/b202301931/anaconda3/envs/py39/lib/python3.9/site-packages (from unstructured-client->unstructured) (0.27.2)\n",
      "Requirement already satisfied: jsonpath-python<2.0.0,>=1.0.6 in /home/b202301931/anaconda3/envs/py39/lib/python3.9/site-packages (from unstructured-client->unstructured) (1.0.6)\n",
      "Requirement already satisfied: nest-asyncio>=1.6.0 in /home/b202301931/anaconda3/envs/py39/lib/python3.9/site-packages (from unstructured-client->unstructured) (1.6.0)\n",
      "Requirement already satisfied: pydantic<2.10.0,>=2.9.2 in /home/b202301931/anaconda3/envs/py39/lib/python3.9/site-packages (from unstructured-client->unstructured) (2.9.2)\n",
      "Requirement already satisfied: pypdf>=4.0 in /home/b202301931/anaconda3/envs/py39/lib/python3.9/site-packages (from unstructured-client->unstructured) (5.1.0)\n",
      "Requirement already satisfied: python-dateutil==2.8.2 in /home/b202301931/anaconda3/envs/py39/lib/python3.9/site-packages (from unstructured-client->unstructured) (2.8.2)\n",
      "Requirement already satisfied: requests-toolbelt>=1.0.0 in /home/b202301931/anaconda3/envs/py39/lib/python3.9/site-packages (from unstructured-client->unstructured) (1.0.0)\n",
      "Requirement already satisfied: cffi>=1.12 in /home/b202301931/anaconda3/envs/py39/lib/python3.9/site-packages (from cryptography>=3.1->unstructured-client->unstructured) (1.17.1)\n",
      "Requirement already satisfied: anyio in /home/b202301931/anaconda3/envs/py39/lib/python3.9/site-packages (from httpx>=0.27.0->unstructured-client->unstructured) (4.6.2.post1)\n",
      "Requirement already satisfied: httpcore==1.* in /home/b202301931/anaconda3/envs/py39/lib/python3.9/site-packages (from httpx>=0.27.0->unstructured-client->unstructured) (1.0.6)\n",
      "Requirement already satisfied: sniffio in /home/b202301931/anaconda3/envs/py39/lib/python3.9/site-packages (from httpx>=0.27.0->unstructured-client->unstructured) (1.3.1)\n",
      "Requirement already satisfied: h11<0.15,>=0.13 in /home/b202301931/anaconda3/envs/py39/lib/python3.9/site-packages (from httpcore==1.*->httpx>=0.27.0->unstructured-client->unstructured) (0.14.0)\n",
      "Requirement already satisfied: packaging>=17.0 in /home/b202301931/anaconda3/envs/py39/lib/python3.9/site-packages (from marshmallow<4.0.0,>=3.18.0->dataclasses-json->unstructured) (24.1)\n",
      "Requirement already satisfied: annotated-types>=0.6.0 in /home/b202301931/anaconda3/envs/py39/lib/python3.9/site-packages (from pydantic<2.10.0,>=2.9.2->unstructured-client->unstructured) (0.7.0)\n",
      "Requirement already satisfied: pydantic-core==2.23.4 in /home/b202301931/anaconda3/envs/py39/lib/python3.9/site-packages (from pydantic<2.10.0,>=2.9.2->unstructured-client->unstructured) (2.23.4)\n",
      "Requirement already satisfied: mypy-extensions>=0.3.0 in /home/b202301931/anaconda3/envs/py39/lib/python3.9/site-packages (from typing-inspect<1,>=0.4.0->dataclasses-json->unstructured) (1.0.0)\n",
      "Requirement already satisfied: pycparser in /home/b202301931/anaconda3/envs/py39/lib/python3.9/site-packages (from cffi>=1.12->cryptography>=3.1->unstructured-client->unstructured) (2.22)\n",
      "Requirement already satisfied: exceptiongroup>=1.0.2 in /home/b202301931/anaconda3/envs/py39/lib/python3.9/site-packages (from anyio->httpx>=0.27.0->unstructured-client->unstructured) (1.2.2)\n",
      "Note: you may need to restart the kernel to use updated packages.\n"
     ]
    }
   ],
   "source": [
    "pip install unstructured"
   ]
  },
  {
   "cell_type": "code",
   "execution_count": 8,
   "id": "d018ee04-ccca-4cf2-9f2f-b681ec70da52",
   "metadata": {},
   "outputs": [
    {
     "data": {
      "text/plain": [
       "[Document(metadata={'source': 'https://www.etnews.com/20241105000218?mc=ns_004_00001'}, page_content='IT 통신\\n\\n中 폴더블폰의 역습…폼팩터·자체 OS로 위협\\n\\n발행일 : 2024-11-05 13:50 지면 : 2024-11-06 4면\\n\\n공유하기\\n\\n페이스북\\n\\nX(트위터)\\n\\n메일\\n\\nURL 복사\\n\\n글자크기 설정 가\\n\\n작게\\n\\n보통\\n\\n크게\\n\\n중국 휴대폰 제조사들의 폴더블 스마트폰 공세가 거세다. 조악했던 단말 완성도를 몇 년 만에 수준급으로 끌어올리고 있다. 폴더블 스마트폰의 상품성을 가르는 핵심 요소인 \\'얇기\\'와 \\'무게\\'는 세계 최고 수준으로 올랐다. 중국 제조사들은 기존 하드웨어(HW)를 강화하는 전략을 넘어 소프트웨어(SW) 확장도 추진하고 있다. 독립적인 운용체계(OS)를 구축해 자신들의 서비스를 강화하고 SW 독자노선을 걷고 있다. ◇중국 현지 폴더블폰...“얇고 가볍다” 최근 방문한 중국 광둥성 선전시에서는 중국의 폴더블 스마트폰 기술력을 체감할 수 있었다. 제품은 일반 바(Bar)형 스마트폰과 견줄 정도로 가볍고, 두께는 얇았다. 하드웨어 측면 뿐 아니라 소프트웨어에서의 비약적 발전을 이룬 모습이었다.\\n\\n샤오미 4세대 폴드형 스마트폰 \\'믹스 폴드4(MIX Fold 4)\\'가 대표적이다. 이 제품은 펼쳤을 때 두께 4.59mm, 접었을 때 두께 9.47mm이다. 작년에 출시한 믹스 폴드3 두께(5.4mm·10.86mm)보다 얇다. 2021년 첫선을 보인 1세대 제품 두께가 각각 7.6mm, 17.2mm인 점을 고려했을 때 상당한 얇기 변화를 이뤄냈다. 제품 무게(226g) 또한 3세대 255g에서 29g 덜어냈다. 1세대 무게 317g과 비교해선 91g가량을 줄였다. 선전시내 한 샤오미 매장 관계자는 “믹스폴드 시리즈는 많은 문의가 있는 제품”이라며 “얇기도 얇지만, 카메라 성능이 뛰어나다”고 믹스폴드4를 소개했다.\\n\\n실제 카메라 성능은 수준급이었다. 독일 명품 카메라 업체 라이카와 협업해 만든 쿼드 카메라 시스템은 다양한 촬영 환경에 맞는 결과물을 보여줬다. 카메라 줌을 최대치인 50배까지 끌어올려도 흔들림이 적었다. 일각에선 “카메라만 켜면 발열이 심해진다”는 지적이 나오긴 했으나, 실제 체험 시간에는 발열을 느끼지 못했다.\\n\\n중국 제조사 중 가장 얇은 폴더블폰을 보유한 곳은 화웨이에서 분사한 아너다. 이들은 2022년 1월 매직V를 출시한 이래 줄곧 얇기와 무게를 중점으로 기술력을 발전시켰다. 첫 제품인 매직V는 접었을 때 14.3mm, 펼쳤을 때 6.7mm로 두꺼운 수준이었다. 최신작인 3세대 매직V3의 경우 접었을 때 9.2mm, 펼쳤을 때 4.35mm로 줄여냈다. 무게 또한 1세대 288g에서 226g으로 가벼워졌다. 세계 폴더블 스마트폰 제품 중 가장 얇은 제품이자 가벼운 제품군이다. 아너는 자사 제품이 얇고 가볍다는 점을 강조하는 마케팅을 구사한다. 제품 공개 행사장에서 삼성전자 폴더블폰 두께를 저격하는 마케팅이 대표적이다. 조지 자오 아너 최고경영자(CEO)는 올해 9월 독일 베를린에서 열린 유럽 최대 가전 전시회 IFA 행사장에서 매직V3와 삼성 갤럭시Z폴드6 두께를 직접 비교했다. 그는 매직V3에 대해 “세상에서 가장 얇은 폴더블폰”이라며 삼성 제품보다 얇고 애플 아이폰보다 가볍다고 말했다. 실제 매직V3를 손에 쥐자 가볍고 얇다는 느낌이 강했다. 디스플레이를 접은 채 손에 쥐니 일반 바형 스마트폰보다 가볍다는 느낌이 들 정도였다. 아너의 \\'슈퍼 스틸\\'이 적용된 힌지(경첩)부분은 과거보다 견고해졌다. 아너 관계자에 따르면 매직V3 힌지 강도는 약 2100 메가파스칼(MPa)이다. 이는 일반적 티타늄 합금의 강도보다 강한 정도다.\\n\\n◇자체 OS개발 기업 증가…화웨이는 사업 확장도\\n\\n중국 스마트폰 제조사들은 하드웨어뿐 아니라 자체 OS를 구축하고 있다. 제품 간 OS 생태계를 보다 강하게 연결하기 위해서다. 앞으로 발생할 수 있는 미국 제재에 대한 대비책이기도 하다. 자체 OS를 개발한 중국 제조사는 화웨이(훙멍 OS), 샤오미(하이퍼OS), 오포(칼라OS), 비보(오리진OS) 등 점차 늘어나고 있다. 구글 안드로이드를 기반으로 UI·UX를 만들고 중국 개발자 애플리케이션(앱)을 최적화해 현지 사용자들 편의성을 높인 게 특징이다. 이들의 OS 독자 개발은 자사 기기 간 연결성을 높여 소비자들을 자사 제품 생태계에 묶어두는 \\'락인 효과(Lock-in effect)\\'를 거두기 위한 전략이다. 독자 OS를 갖고 있는 애플은 이같은 전략을 활용해 스마트폰뿐 아니라 모든 제품군의 일류 기업으로 성장했다. 화웨이는 자체 OS \\'훙멍(鴻蒙·하모니)\\' 대중화에 성공한 중국 기업이다. 현지 외신 등에 따르면 훙멍 OS가 설치된 모바일 기기는 10억대가 넘는다. 안드로이드 OS에 이어 2위 점유율이다. 최근에는 홍멍 NEXT라는 신규 OS도 선보였다. 해당 OS에는 1만5000여개의 기본 앱과 서비스들이 들어갔다. 훙멍 OS는 화웨이 스마트폰, 집안의 가전·가구 등 모든 화웨이 제품에 탑재된다. TV와 노트북, 집안의 가전, 전기차 등을 모바일로 제어하고 활용할 수 있어 사용 편의성이 높다. 훙멍 OS는 사업 확장 측면에서도 도움을 받고 있다. 화웨이는 전기차를 직접 생산하지 않지만, 전기차 사업을 전개하고 있다. 자동차 제조사들과 협업해 이들의 전기차에 훙멍 OS를 입히는 방식이다. 현재 중국 자동차 기업 베이징자동차그룹, 비야디(BYD), 체리차 등과 협업 중이다.\\n\\n선전(중국)= 남궁경 기자 nkk@etnews.com\\n\\n남궁경 기자기사 더보기\\n\\nKT, 네트워크 운용에 AI 도입\\n\\nIT 많이 본 기사\\n\\n1\\'아이폰 중 가장 얇은\\' 아이폰17 에어, 구매 시 고려해야 할 3가지 사항은?\\n\\n2\\'주사율 한계 돌파\\' 삼성D, 세계 첫 500Hz 패널 개발\\n\\n3현대차, 차세대 아이오닉5에 구글맵 첫 탑재\\n\\n4속보이재명, \\'위증교사 1심\\' 무죄\\n\\n5서울시, \\'한강버스\\' 2척 첫 진수…해상시험 등 거쳐 12월 한강 인도\\n\\n6이재명, 위증교사 1심 재판서 무죄\\n\\n7\\'각형 배터리\\' 수요 급증…이노메트리, 특화 검사로 공략\\n\\n8네이버멤버십 플러스 가입자, 넷플릭스 무료로 본다\\n\\n9[뉴스의 눈]삼성 위기론 속 법정서 심경 밝힌 이재용 회장\\n\\n10배달 치킨 가격 또 오른다…프랜차이즈 \\'이중가격제\\' 논란\\n\\n주요 행사 ❯\\n\\n나만의 AI 전문가 고용하기:Claude, GPTs, API 활용 Agentic Workflow 구축 1-day 워크숍\\n\\nK-클라우드 네이티브 서밋 2024\\n\\n디지털 전환 시대의 새로운 보안 패러다임: SASE 기술 트렌드와 제로 트러스트 업무 환경 구현\\n\\n2024 시큐어 스페이스 서밋\\n\\nAI에이전트가 가져올비즈니스 변화와 기업의 대응\\n\\n생성형 AI로 한단계 진화하는 AICC : 고객 경험과 생산성 향상을 동시에\\n\\n진화하는 ERP, Copilot과 함께하는 Dynamics 365 Finance & Operations\\n\\nChatGPT(GPT4o)와 Tableau를 활용한‘프로 마케터’ 되기 1-day 워크숍\\n\\nBIZPLUS\\n\\n[올쇼TV] 생성형 AI로 한 단계 진화하는 AICC-고객 경험과 생산성 향상을 동시에 12월 5일 생방송\\n\\n\"SASE 기술 트렌드와 제로 트러스트 업무 환경 구현” 11월 27일 생방송\\n\\n[올쇼TV] Horizon과 Workspace ONE으로 구축하는 미래형 가상화와 디바이스 관리 11월 27일 생방송\\n\\n\"디지털 업무 환경 혁신을 위한 기업용AP 솔루션 와이파이오피스” 11월 26일 생방송\\n\\n“AI 에이전트가 가져올 비즈니스 변화와 기업의 대응” 세미나 12월 5일 개최\\n\\nHOT 영상 ❯\\n\\n햄스터 때문에 비행기가 4일 동안 멈춘 사연\\n\\nAI 로봇 투입한 BMW…작업속도 \\'4배\\' 증가\\n\\n차 부수고 시민 위협한 20대 음주 운전자\\n\\n법안 찢고 춤춘 뉴질랜드 의원들, 왜...?'),\n",
       " Document(metadata={'source': 'https://www.understandingwar.org/backgrounder/russian-offensive-campaign-assessment-february-9-2023'}, page_content='Skip to main content\\n\\nHome\\n\\nWho We Are\\n\\nResearch\\n\\nPublications\\n\\nGet Involved\\n\\nPlanned Giving\\n\\nDonate\\n\\nRussian Offensive Campaign Assessment, February 9, 2023\\n\\nFeb 9, 2023 - ISW Press\\n\\nDownload the PDF\\n\\nKarolina Hird, Riley Bailey, George Barros, Nicole Wolkov, and Frederick W. Kagan\\n\\nFebruary 9, 7:30 pm ET\\n\\nClick here to see ISW’s interactive map of the Russian invasion of Ukraine. This map is updated daily alongside the static maps present in this report.\\n\\nWagner Group financier Yevgeny Prigozhin announced on February 9 that the Wagner Group has entirely stopped recruiting prisoners. In a response to a press comment, Prigozhin claimed that Wagner’s recruitment of prisoners has \"completely stopped\" and that \"all obligations are being fulfilled\" for those currently under Wagner’s employ.[1] Prigozhin also absurdly claimed that over 10 million Americans have applied to join Wagner.[2] The Wagner Group will likely continue to recruit from prisons, albeit in a much more limited capacity. As ISW has previously noted, Wagner’s recruitment of prisoners has slowed over the last few months, an assessment confirmed by statistics by the Federal Penitentiary Service that show that decreases in the Russian prison population stabilized between November 2022 and January 2023.[3] This phenomenon is consistent with the overall trend of conventional Russian troops slowly replacing the Wagner Group around Bakhmut, indicating that Russian military command may be shifting away from its reliance on Wagner and therefore on using prisoners as cannon fodder.\\n\\nThe Kremlin continues to pursue measures to gradually prepare Russia’s defense-industrial base for a protracted war in Ukraine while avoiding wider economic mobilization. Russian President Vladimir Putin held a meeting with the Supervisory Board of the Agency for Strategic Initiatives on February 9 and instructed the agency to support federal subjects in developing the production of unmanned aircraft systems.[4] Deputy Chairman of the Russian Security Council Dmitry Medvedev previously stated that Russian military manufacturers intend to expand the supply of reconnaissance and attack drones to support operations in Ukraine, and Russian and Iranian officials are reportedly planning to build a factory in Russia to manufacture 6,000 drones \"in the coming years.\"[5]\\n\\nMedvedev visited a tank manufacturing plant in Omsk Oblast on February 9 and stated that Russia needs to increase the production of various armaments, including modern tanks, in response to Western military assistance to Ukraine.[6] Dutch open-source group Oryx reported that Russian forces have lost 1,012 destroyed tanks in Ukraine with an additional 546 tanks captured by Ukrainian forces.[7] Oryx reported that these combined losses represent roughly half the tanks that Russian forces committed to Ukraine at the start of the invasion.[8] Fifteen hundred tanks are enough to equip more than 15 tank regiments or brigades or about 150 battalion tactical groups.[9] The Russian military needs to quickly replenish these tank losses to maintain the ability to conduct large-scale mechanized maneuver warfare ahead of a likely increased pace of offensive operations in eastern Ukraine. Medvedev likely framed his calls for increased production as a response to Western military assistance to obscure the fact that substantial military equipment losses are driving the need for increased production. The Kremlin’s efforts to gradually prepare Russia’s defense industrial base for a protracted war while avoiding a wider mobilization of the Russian economy continue to be incompatible with the scale of the war that the Russian military is fighting in Ukraine and the scale of Russian military equipment losses.\\n\\nA prominent Wagner-linked Russian milblogger called for the dismissal of Russian Defense Minister Sergei Shoigu over a Russian military uniform procurement scandal. Many prominent Russian military bloggers harshly criticized Shoigu and the Russian Ministry of Defense (MoD) over news that the 22-year-old son of the Russian Deputy Head of the Federal Agency for State Property Management won a contract to supply the Russian military with new uniforms.[10] The milbloggers argued that the new uniforms are of inferior quality and overpriced (costing about 130,000-210,000 rubles or $1,780 - $2,875 per uniform) and are part of a petty corruption scheme to enrich the families of Russian defense officials. The Grey Zone Telegram channel—a prominent Wagner Group-affiliated milblogger – wrote an explicative-laden rant to its 426,000 subscribers that Shoigu has lost credibility in front of the Russian nation and that Russian President Vladimir Putin can amend the situation by firing Shoigu, Shoigu’s \"entourage\" in the Russian General Staff and banning Shoigu and his associates from all Russian military affairs.[11] This is the latest episode in a string of events that has prompted Russian military blogger communities to attack the Russian MoD and senior Kremlin officials for petty corruption and ineptitude resulting in battlefield failures and worse quality of life for average Russian soldiers.[12]\\n\\nThe Kremlin continues to show that it is unwilling to curb divisive rhetoric from ultranationalist pro-war figures. Chechen Republic head Ramzan Kadyrov publicly sparred with Duma Deputy General Viktor Sobolev following Sobolev’s criticism of Kadyrov’s statements on grooming standards in the Russian military being discriminatory against Muslims and calls for the Russian military to fight satanism in Poland.[13] Kremlin spokesperson Dmitry Peskov stated on February 9 that the Kremlin is \"not participating in this controversy and would not like to give any assessments\" about it.[14] The Kremlin will continue to tolerate divisive rhetoric from ultranationalist figures as it seeks to appeal to the wider pro-war community.\\n\\nKey Takeaways\\n\\nWagner Group financier Yevgeny Prigozhin announced that the Wagner Group has entirely stopped recruiting prisoners.\\n\\nThe Kremlin continues to pursue measures to gradually prepare Russia’s defense industrial base for a protracted war in Ukraine.\\n\\nA prominent Wagner-linked Russian milblogger called for the dismissal of Russian Defense Minister Sergey Shoigu over a Russian military uniform procurement scandal.\\n\\nThe Kremlin continues to illustrate that it is unwilling to curb divisive rhetoric from ultranationalist pro-war figures.\\n\\nRussian forces continued offensive operations along the Svatove-Kreminna line.\\n\\nRussian forces conducted limited ground attacks in western Donetsk Oblast and the Avdiivka-Donetsk City area and continued offensive operations around Bakhmut.\\n\\nRussian forces conducted a limited ground attack in Zaporizhia Oblast.\\n\\nRussian sources claimed that the Russian military integrated a Donetsk People’s Republic (DNR) volunteer formation into the Russian Armed Forces.\\n\\nRussian sources claimed that Russian authorities detained a Ukrainian sabotage and reconnaissance group attempting to assassinate Russian occupation officials.\\n\\nWe do not report in detail on Russian war crimes because those activities are well-covered in Western media and do not directly affect the military operations we are assessing and forecasting. We will continue to evaluate and report on the effects of these criminal activities on the Ukrainian military and population and specifically on combat in Ukrainian urban areas. We utterly condemn these Russian violations of the laws of armed conflict, Geneva Conventions, and humanity even though we do not describe them in these reports.\\n\\nRussian Main Effort—Eastern Ukraine (comprised of two subordinate main efforts)\\n\\nRussian Subordinate Main Effort #1—Capture the remainder of Luhansk Oblast and push westward into eastern Kharkiv Oblast and encircle northern Donetsk Oblast\\n\\nRussian Subordinate Main Effort #2—Capture the entirety of Donetsk Oblast\\n\\nRussian Supporting Effort—Southern Axis\\n\\nRussian Mobilization and Force Generation Efforts\\n\\nActivities in Russian-occupied Areas\\n\\nRussian Main Effort—Eastern Ukraine\\n\\nRussian Subordinate Main Effort #1- Luhansk Oblast (Russian objective: Capture the remainder of Luhansk Oblast and continue offensive operations into eastern Kharkiv Oblast and northern Donetsk Oblast)\\n\\nISW continues to assess that Russia\\'s most likely course of action (MLCOA) is an imminent offensive effort in Luhansk Oblast and is therefore adjusting the structure of the daily campaign assessments. We will no longer include the Eastern Kharkiv and Western Luhansk Oblast area as part of Ukrainian counteroffensives and will assess this area as a subordinate part of the Russian main effort in Eastern Ukraine. The assessment of Luhansk Oblast as part of the Russian main effort does not preclude the possibility of continued Ukrainian counteroffensive actions here or anywhere else in theater in the future. ISW will report on Ukrainian counteroffensive efforts as they occur.\\n\\nRussian forces continued offensive actions along the Svatove-Kreminna line on February 9. The Ukrainian General Staff reported that Ukrainian troops repelled a Russian attack near Stelmakhivka, 15km west of Svatove.[15] Russian milbloggers circulated footage reportedly of elements of the 3rd Motor Rifle Division (20th Combined Arms Army, Western Military District) correcting artillery strikes in an unidentified sector of the Svatove-Kreminna line.[16] The Russian Ministry of Defense (MoD) claimed that Central Military District elements are operating in the Lyman direction (the area west of Kreminna) and using TOS-1 thermobaric multiple rocket launch systems.[17] The commitment of a military district-level asset such as the TOS-1 to the Kreminna area suggests that the Russian MoD is prioritizing this axis. Widely circulated social media footage posted on February 9 additionally shows a Ukrainian strike on a Russian BMPT Terminator armored fighting vehicle about 8km south of Kreminna, indicating that the Russian command is committing new equipment to this area of the front.[18] The Ukrainian General Staff noted that Ukrainian troops repelled a Russian attack near Bilohorivka.[19] A Russian milblogger claimed that Russian troops are conducting offensive operations north of Bilohorivka and attacked along the Shepilove-Dibrova line, about 5km south of Kreminna.[20]\\n\\nRussian Subordinate Main Effort #2—Donetsk Oblast (Russian objective: Capture the entirety of Donetsk Oblast, the claimed territory of Russia’s proxies in Donbas)\\n\\nRussian forces continued ground attacks around Bakhmut on February 9. The Ukrainian General Staff reported that Ukrainian troops repelled Russian attacks on Bakhmut itself; northeast of Bakhmut near Vyimka (22km northeast) and Fedorivka (15km northeast); north of Bakhmut near Krasna Hora (4km north) and Paraskoviivka (5km north); and west of Bakhmut near Ivanviske (5km west) and Chasiv Yar (10km west).[21] A Russian milblogger remarked that Russian troops have recently changed their tactics in the Bakhmut area and are focusing less on frontal assaults on small settlements and more on interdicting Ukrainian ground lines of communication (GLOCs) into Bakhmut along the E40 Bakhmut-Slovyansk and T0504 Kostyantynivka-Chasiv Yar-Bakhmut highways.[22] This observation is consistent with the Ukrainian General Staff report of Russian attacks towards Chasiv Yar and Ivanivske, both critical settlements along the T0504. Other Russian milbloggers similarly claimed that Wagner Group forces are pushing towards Ivanivske and attacking along the E40 near Orikhovo-Vasylivka (10km northwest of Bakhmut) and Dubovo-Vasylivka (5km northwest of Bakhmut).[23] Russian sources claimed that Wagner Group forces are additionally attacking toward Krasna Hora from three sides and that Ukrainian troops are close to withdrawing from the settlement.[24]\\n\\nRussian forces conducted limited ground attacks in the Avdiivka-Donetsk City area on February 9. The Ukrainian General Staff reported that Ukrainian forces repelled Russian assaults near Avdiivka, north of Avdiivka near Novokalynove, and along the western outskirts of Donetsk City near Vodyane, Pervomaiske, Vesele, Krasnohorivka, and Marinka.[25] A Russian milblogger claimed that Russian forces on the northwestern outskirts of Donetsk City resumed offensives near Krasnohorivka, advanced near Vodyane and Opytne, failed to break through near Pervomaiske, and continued attacks in western Marinka.[26] Social media footage published on February 9 purportedly shows elements of the 5th Brigade of the 1st Army Corps (forces of the Donetsk People’s Republic) attacking Ukrainian positions near Marinka.[27]\\n\\nRussian forces conducted limited ground attacks in western Donetsk Oblast on February 9. The Ukrainian General Staff reported that Ukrainian forces repelled Russian assaults near Bohoyavlenka (25km southwest of Donetsk City) and Prechystivka (38km southwest of Donetsk City).[28] A Russian milblogger claimed that Russian forces resumed assault operations on the outskirts of Vuhledar.[29] A Ukrainian reserve officer also reported that the majority ethnic Tatar volunteer battalion \"Alga\" of the 72nd Motorized Rifle Brigade (3rdArmy Corps) fought near Vuhledar on February 6.[30] The reserve officer suggested that the use of volunteer battalions in this area indicates that the 155th and 40th Naval Infantry Brigades, which were previously active in the area, sustained insurmountable losses and are being replaced by other formations.[31] Recently posted footage from the Vuhledar area shows a defeated Russian mechanized formation of the 155th Naval Infantry Brigade that lost 13 main battle tanks and 12 BMP infantry fighting vehicles in a single engagement - about half a Russian tank battalion.[32] The footage shows the Russian formation driving in a column displaying poor tactics and a lack of learning from previous Russian tactical failures.[33] Separate drone footage published on February 8 shows Ukrainian forces striking Russian forces approaching Vuhledar.[34] Geolocated footage published February 7 also shows reported elements of the 36th Separate Guards Motorized Rifle Brigade (29th Combined Arms Army, Eastern Military District) striking Ukrainian positions on the eastern outskirts of Vuhledar.[35]\\n\\nSupporting Effort—Southern Axis (Russian objective: Maintain frontline positions and secure rear areas against Ukrainian strikes)\\n\\nRussian forces conducted a limited ground attack in Zaporizhia Oblast on February 9. The Ukrainian General Staff reported that Ukrainian forces repelled a Russian assault near Novoandriivka, Zaporizhia Oblast.[36] Russian forces additionally continued routine fire west of Hulyaipole and in Dnipropetrovsk and Kherson oblasts on February 9.[37] Ukrainian sources reported that Russian forces struck Kherson City and Nikopol, Dnipropetrovsk Oblast.[38]\\n\\nMobilization and Force Generation Efforts (Russian objective: Expand combat power without conducting general mobilization)\\n\\nRussian sources claimed that the Russian military integrated a Donetsk People’s Republic (DNR) volunteer formation into the Russian Armed Forces. A Russian milblogger claimed that the former DNR Vostok volunteer battalion is now formally the 11th Regiment of the Russian Armed Forces.[39] The DNR Vostok volunteer battalion commander, a notable Russian milblogger, has not addressed the reported integration. The Russian milblogger did not specify what higher formation the 11th regiment is subordinated to, but it is possible that it is subordinated to the Southern Military District which formally controls the DNR 1st Army Corps. This regiment may be assigned to a new unspecified Russian maneuver division. ISW previously assessed that the Russian Ministry of Defense (MoD) appears to be rushing to integrate irregular conventional forces into more traditional structures and will likely struggle to correct these formations‘ poor effectiveness during integration efforts.[40]\\n\\nA Russian military court reportedly ruled that Russian commanders can legally refuse to release servicemembers from service at the end of their contracts. A Russian media outlet reported on February 8 that a Perm Oblast military garrison court ruled in favor of Russian commanders in a lawsuit filed by a serviceman who claimed that the commanders refused to release him from service when his contract ended in September 2022.[41] The court reportedly argued that the partial mobilization decree established an exhaustive list of grounds for release that did not include the expiration of a contract, and therefore, concluded that there were no grounds for recognizing the actions of the commanders as illegal.[42] ISW continues to assess that the Kremlin will not formally rescind the partial mobilization decree to legally justify the continued service of mobilized personnel indefinitely.\\n\\nA volunteer battalion affiliated with a Russian occupation official reportedly deployed to frontline positions in Ukraine. Zaporizhia Oblast occupation deputy Vladimir Rogov claimed on February 9 that elements of Zaporizhia Oblast occupation head Yevgeny Balitsky’s Sudaplatov volunteer battalion have deployed to frontline positions in an unspecified area of Ukraine.[43] Russian sources have previously claimed that Turkish, Swedish, and Serbian volunteers are serving in the volunteer battalion.[44] ISW continues to assess that this volunteer battalion will likely face significant command and control challenges if these claims are true.\\n\\nActivity in Russian-occupied Areas (Russian objective: consolidate administrative control of and annexed areas; forcibly integrate Ukrainian civilians into Russian sociocultural, economic, military, and governance systems)\\n\\nThe Kremlin continues to prioritize the development of occupied territories in Ukraine. Russian President Vladimir Putin met with the Supervisory Board of the Agency for Strategic Initiatives on February 9 and instructed the agency to focus on the development and implementation of socio-economic development plans for occupied Luhansk, Donetsk, Zaporizhia, and Kherson oblasts.[45] Putin stated that Russia needs to develop the occupied territories within the current decade to foster social commitment to Russia.[46] Donetsk People’s Republic head Denis Pushilin met with Russian Energy Minister Nikolai Shulginov on February 9 to discuss a new fuel and energy complex in Donetsk Oblast.[47] The Kremlin and Russian occupation officials likely believe that rapid economic development will promote widespread pro-Russian sentiments in occupied territories.\\n\\nRussian officials continue to pursue the deportation of residents and children from occupied territories through various schemes. Zaporizhia Oblast occupation head Yevgeny Balitsky stated on February 9 that Russian medical services are taking women and newborns with diseases that cannot be treated in Zaporizhia Oblast to Russia for perinatal care.[48] Balitsky also stated that Russian doctors and the Russian Ministry of Health are providing obstetric services in occupied Zaporizhia Oblast.[49] Both these obstetric measures are likely meant to support ongoing Russian efforts to deport children and residents from occupied territories under the guise of medical relocation schemes.[50] Russian Agency for Strategic Initiatives member Svetlana Chupsheva stated in a meeting with Putin that the agency helped relocate dozens of residents from occupied territories to Russia under the medical relocation scheme.[51] Chupsheva also stated that the Agency for Strategic Initiatives plans to accept 5,000 children from Donetsk Oblast into a programming course that may set conditions for the relocation of these children to Russia.[52] ISW continues to assess that these schemes are likely part of a wider ethnic cleansing effort.\\n\\nRussian sources claimed on February 9 that Russian authorities detained members of a Ukrainian sabotage and reconnaissance group attempting to assassinate the Berdyansk deputy occupation head, the Berdyansk occupation traffic police deputy head, and the Berdyansk occupation commandant.[53] Russian sources also claimed that the Ukrainian sabotage and reconnaissance group was preparing an attack on a \"We are Together with Russia\" Center near Berdyansk.[54] ISW has previously assessed that the Kremlin likely founded, coordinates, and promotes the \"We Are Together with Russia\" organization to create a facade of public support for the annexation and integration of occupied Ukrainian oblasts into Russia.[55]\\n\\nSignificant activity in Belarus (ISW assesses that a Russian or Belarusian attack into northern Ukraine in early 2023 is extraordinarily unlikely and has thus restructured this section of the update. It will no longer include counter-indicators for such an offensive.\\n\\nISW will continue to report daily observed Russian and Belarusian military activity in Belarus, but these are not indicators that Russian and Belarusian forces are preparing for an imminent attack on Ukraine from Belarus. ISW will revise this text and its assessment if it observes any unambiguous indicators that Russia or Belarus is preparing to attack northern Ukraine.)\\n\\nBelarusian maneuver elements continue conducting exercises in Belarus. Unspecified elements of the Belarusian 6th Separate Guards Mechanized brigade conducted tactical live-fire exercises at the Gozhsky Training Ground in Grodno, Belarus, on February 9.[56] A tank battalion of the Belarusian 11th Separate Mechanized Brigade conducted live fire training with T-72 tanks at the Obuz-Lesnovsky Training Ground in Brest, Belarus, on February 9.[57]\\n\\nBelarus reportedly began a month-long training for reserve recruits on February 9. The Grey Zone Telegram channel reported on February 9 that Belarus’ reserve recruits began a one-month-long training period.[58]\\n\\nNote: ISW does not receive any classified material from any source, uses only publicly available information, and draws extensively on Russian, Ukrainian, and Western reporting and social media as well as commercially available satellite imagery and other geospatial data as the basis for these reports. References to all sources used are provided in the endnotes of each update.\\n\\n[1] https://t.me/concordgroup_official/426\\n\\n[2] https://t.me/concordgroup_official/427\\n\\n[3] https://www.understandingwar.org/backgrounder/russian-offensive-campaign-assessment-february-1-2023\\n\\n[4] http://kremlin dot ru/events/president/news/70482\\n\\n[5] https://www.wsj.com/articles/moscow-tehran-advance-plans-for-iranian-designed-drone-facility-in-russia-11675609087 ; https://t.me/readovkanews/51286 ; https://tass dot ru/armiya-i-opk/16872633 ;\\n\\n[6] https://t.me/medvedev_telegram/265 ; https://www.reuters.com/world/europe/russia-must-boost-tank-production-west-arms-ukraine-ex-president-medvedev-2023-02-09/\\n\\n[7] https://www.cnn.com/2023/02/09/europe/1000-russian-tanks-destroyed-ukraine-war-intl-hnk-ml/index.html ; https://www.oryxspioenkop.com/2022/02/attack-on-europe-documenting-equipment.html\\n\\n[8] https://www.cnn.com/2023/02/09/europe/1000-russian-tanks-destroyed-ukraine-war-intl-hnk-ml/index.html\\n\\n[9] https://www.businessinsider.com/captured-documents-say-elite-russian-unit-lost-tanks-kharkiv-ukraine-2022-5; https://rusi.org/explore-our-research/publications/commentary/getting-know-russian-battalion-tactical-group\\n\\n[10] https://www.rbc dot ru/society/09/02/2023/63e3b0f79a7947b95a3c8cfc; https://t.me/rybar/43427; https://t.me/milinfolive/96749; https://t.me/rustroyka1945/8471; https://t.me/rustroyka1945/8475; https://t.me/rustroyka1945/8476; https://t.me/rustroyka1945/8477; https://t.me/rybar/43435; https://t.me/m0sc0wcalling/19454; https://t.me/m0sc0wcalling/19453; https://t.me/grey_zone/17119; https://t.me/grey_zone/17117; https://t.me/grey_zone/17116; https://t.me/grey_zone/17112; https://t.me/boris_rozhin/77624\\n\\n[11] https://t.me/grey_zone/17119; https://t.me/grey_zone/17117; https://t.me/grey_zone/17116; https://t.me/grey_zone/17112\\n\\n[12] https://www.understandingwar.org/backgrounder/russian-offensive-campaign-assessment-may-14; https://www.understandingwar.org/backgrounder/russian-offensive-campaign-assessment-september-8; https://www.understandingwar.org/backgrounder/russian-offensive-campaign-assessment-january-2-2023\\n\\n[13] https://t.me/RKadyrov_95/3334; https://eng.kavkaz-uzel dot eu/articles/62013/; https://eng.kavkaz-uzel dot eu/articles/62012/\\n\\n[14] https://ria dot ru/20230209/kadyrov-1850804605.html\\n\\n[15] https://www.facebook.com/GeneralStaff.ua/posts/pfbid02LGCyzg9CHrzXTN98PjkQ2JcVKe4hDsyKrXzcoyWmwHNFUqK5n5Nw2i7outwZY23Pl\\n\\n[16] https://t.me/rybar/43443; https://t.me/dva_majors/8915\\n\\n[17] https://t.me/mod_russia/24064\\n\\n[18] https://m.facebook.com/story.php?story_fbid=pfbid0PHvkPzQjU7XJexyyQKsrJ4xL4K3EK1NJdQpiGjLaxbxjRJ24AdMGh64UR7yCXHhBl&id=100069317405380&m_entstream_source=timeline&ref=sharing; https://twitter.com/neonhandrail/status/1623662090044203008?s=20&t=cRyAxmSdPQgGrR5caCb-VA; https://twitter.com/bayraktar_1love/status/1623653589234098176?s=20&t=cRyAxmSdPQgGrR5caCb-VA; https://t.me/serhiy_hayday/9361; https://twitter.com/bayraktar_1love/status/1623612984621670400?s=20&t=cRyAxmSdPQgGrR5caCb-VA; https://twitter.com/Arslon_Xudosi/status/1623651172732096513; https://twitter.com/neonhandrail/status/1623660863109632002; https://t.me/horevica/9494; https://t.me/Bratchuk_Sergey/29333; https://twitter.com/neonhandrail/status/1623660863109632002\\n\\n[19] https://www.facebook.com/GeneralStaff.ua/posts/pfbid02LGCyzg9CHrzXTN98PjkQ2JcVKe4hDsyKrXzcoyWmwHNFUqK5n5Nw2i7outwZY23Pl\\n\\n[20] https://t.me/wargonzo/10787\\n\\n[21] https://www.facebook.com/GeneralStaff.ua/posts/pfbid02LGCyzg9CHrzXTN98PjkQ2JcVKe4hDsyKrXzcoyWmwHNFUqK5n5Nw2i7outwZY23Pl\\n\\n[22] https://t.me/milchronicles/1542\\n\\n[23] https://t.me/wargonzo/10787; https://t.me/readovkanews/52337\\n\\n[24] https://t.me/milinfolive/96786 ; https://t.me/rlz_the_kraken/56339\\n\\n[25] https://www.facebook.com/GeneralStaff.ua/posts/pfbid02LGCyzg9CHrzXTN98PjkQ2JcVKe4hDsyKrXzcoyWmwHNFUqK5n5Nw2i7outwZY23Pl\\n\\n[26] https://t.me/wargonzo/10787\\n\\n[27] https://t.me/nm_dnr/9867; https://t.me/boris_rozhin/77599\\n\\n[28] https://www.facebook.com/GeneralStaff.ua/posts/pfbid02LGCyzg9CHrzXTN98PjkQ2JcVKe4hDsyKrXzcoyWmwHNFUqK5n5Nw2i7outwZY23Pl\\n\\n[29] https://t.me/wargonzo/10787\\n\\n[30] https://twitter.com/Tatarigami_UA/status/1623436287171776514?s=20&t=mlsfaGbfHu7U5AO17SRKtg\\n\\n[31] https://twitter.com/Tatarigami_UA/status/1623436287171776514?s=20&t=mlsfaGbfHu7U5AO17SRKtg\\n\\n[32] https://twitter.com/UAWeapons/status/1623649601717772288; https://twitter.com/Osinttechnical/status/1623532179220500480; https://t.me/m0sc0wcalling/19484; https://twitter.com/fdov21/status/1623453631629467650?s=20&t=u8lPsoZX5qqU95DD2Ye_Lw; https://twitter.com/markito0171/status/1623418942025785344?s=20&t=_NUJZhYb7sYbC-N0cviQ6A; https://twitter.com/markito0171/status/1623426654004469760?s=20&t=_NUJZhYb7sYbC-N0cviQ6A; https://twitter.com/markito0171/status/1623598095924711425?s=20&t=_NUJZhYb7sYbC-N0cviQ6A; https://t.me/m0sc0wcalling/19484\\n\\n[33] https://twitter.com/UAWeapons/status/1623649601717772288; https://twitter.com/Osinttechnical/status/1623532179220500480; https://t.me/m0sc0wcalling/19484; https://twitter.com/fdov21/status/1623453631629467650?s=20&t=u8lPsoZX5qqU95DD2Ye_Lw; https://twitter.com/markito0171/status/1623418942025785344?s=20&t=_NUJZhYb7sYbC-N0cviQ6A; https://twitter.com/markito0171/status/1623426654004469760?s=20&t=_NUJZhYb7sYbC-N0cviQ6A; https://twitter.com/markito0171/status/1623598095924711425?s=20&t=_NUJZhYb7sYbC-N0cviQ6A; https://t.me/m0sc0wcalling/19484\\n\\n[34] https://twitter.com/Militarylandnet/status/1623386771282075676?s=20&t=ddjgBA3zjHHvoe6SCnNDrQ\\n\\n[35] https://t.me/rusichtank/94 ; https://twitter.com/3_bm15/status/1623670248699310080?s=20&t=APP4gCFnjvUIHEeNMJkdlA ; https://twitter.com/3_bm15/status/1623670378458411009?s=20&t=APP4gCFnjvUIHEeNMJkdlA ; https://twitter.com/GeoConfirmed/status/1623730058211778563?s=20&t=APP4gCFnjvUIHEeNMJkdlA\\n\\n[36] https://www.facebook.com/GeneralStaff.ua/posts/pfbid02LGCyzg9CHrzXTN98PjkQ2JcVKe4hDsyKrXzcoyWmwHNFUqK5n5Nw2i7outwZY23Pl\\n\\n[37] https://www.facebook.com/GeneralStaff.ua/posts/pfbid02opH8aKBK88janDxszuo7TjZEnZEzt7AS5ZZxj7xpk8kUqdbBDPvrJTJ9qExKitRtl ; https://www.facebook.com/GeneralStaff.ua/posts/pfbid02LGCyzg9CHrzXTN98PjkQ2JcVKe4hDsyKrXzcoyWmwHNFUqK5n5Nw2i7outwZY23Pl ; https://twitter.com/IntelCrab/status/1623561968626941953?s=20&t=sp6Y-hSy_f3ZMeO0v48m_w ; https://twitter.com/IntelCrab/status/1623562915331690500?s=20&t=sp6Y-hSy_f3ZMeO0v48m_w ; https://twitter.com/IntelCrab/status/1623563711859290113?s=20&t=sp6Y-hSy_f3ZMeO0v48m_w ; https://t.me/zoda_gov_ua/16537 ; https://t.me/skarlatop/976 ; https://t.me/zoda_gov_ua/16520 ; https://t.me/Yevtushenko_E/2427\\n\\n[38] https://t.me/Yevtushenko_E/2427 ; https://www.facebook.com/GeneralStaff.ua/posts/pfbid02LGCyzg9CHrzXTN98PjkQ2JcVKe4hDsyKrXzcoyWmwHNFUqK5n5Nw2i7outwZY23Pl ; https://www.facebook.com/GeneralStaff.ua/posts/pfbid02opH8aKBK88janDxszuo7TjZEnZEzt7AS5ZZxj7xpk8kUqdbBDPvrJTJ9qExKitRtl\\n\\n[39] https://t.me/grey_zone/17129\\n\\n[40] https://www.understandingwar.org/backgrounder/russian-offensive-campaign-assessment-february-8-2023\\n\\n[41] https://59 dot ru /text/gorod/2023/02/07/72040580/?utm_source=telegram&utm_medium=messenger&utm_campaign=59\\n\\n[42] https://59 dot ru /text/gorod/2023/02/07/72040580/?utm_source=telegram&utm_medium=messenger&utm_campaign=59\\n\\n[43] https://www.politnavigator dot net/my-vse-budem-udivleny-kogda-nachnjotsya-nastuplenie-rogov.html\\n\\n[44] https://isw.pub/UkrWar020223\\n\\n[45] http://kremlin dot ru/events/president/news/70482\\n\\n[46] http://kremlin dot ru/events/president/news/70482\\n\\n[47] https://t.me/pushilindenis/3166\\n\\n[48] https://t.me/BalitskyEV/778 ;\\n\\n[49] https://t.me/BalitskyEV/778\\n\\n[50] https://isw.pub/UkrWar011323\\n\\n[51] http://kremlin dot ru/events/president/news/70482\\n\\n[52] http://kremlin dot ru/events/president/news/70482\\n\\n[53] https://t.me/vrogov/7593; https://t.me/vrogov/7582 ; https://t.me/readovkanews/52319 ; https://t.me/rybar/43417 ; https://t.me/voenkorKotenok/45087 ; https://t.me/milinfolive/96740\\n\\n[54] https://t.me/vrogov/7593 ; https://t.me/rybar/43417\\n\\n[55] https://www.understandingwar.org/backgrounder/russian-offensive-campaign-assessment-july-30\\n\\n[56] https://t.me/modmilby/22518\\n\\n[57] https://t.me/modmilby/22515\\n\\n[58] https://t.me/grey_zone/17123\\n\\n1400 16th Street NW, Suite 515 Washington, DC 20036 ph (202) 293-5550 ©2007 – 2024 THE INSTITUTE FOR THE STUDY OF WAR')]"
      ]
     },
     "execution_count": 8,
     "metadata": {},
     "output_type": "execute_result"
    }
   ],
   "source": [
    "#!pip install bs4\n",
    "\n",
    "from langchain_community.document_loaders import UnstructuredURLLoader\n",
    "\n",
    "urls = [\n",
    "    \"https://www.etnews.com/20241105000218?mc=ns_004_00001\",\n",
    "    \"https://www.understandingwar.org/backgrounder/russian-offensive-campaign-assessment-february-9-2023\",\n",
    "]\n",
    "\n",
    "loader = UnstructuredURLLoader(urls=urls)\n",
    "data = loader.load()\n",
    "data"
   ]
  },
  {
   "cell_type": "code",
   "execution_count": 11,
   "id": "211552d7-2ef8-49a6-9ecb-04bc5cc32a85",
   "metadata": {},
   "outputs": [
    {
     "name": "stderr",
     "output_type": "stream",
     "text": [
      " 50%|██████████████████████████████████████████████▌                                              | 1/2 [00:00<00:00, 6668.21it/s]\n"
     ]
    }
   ],
   "source": [
    "from langchain_community.document_loaders import DirectoryLoader\n",
    "from langchain_community.document_loaders import TextLoader\n",
    "\n",
    "\n",
    "loader = DirectoryLoader('./', glob=\"**/*.txt\", show_progress=True, loader_cls=TextLoader)\n",
    "docs = loader.load()"
   ]
  },
  {
   "cell_type": "code",
   "execution_count": 12,
   "id": "24ba8909-4483-4afd-a46c-1430bbb24b76",
   "metadata": {},
   "outputs": [
    {
     "data": {
      "text/plain": [
       "Document(metadata={'source': 'news_data.txt'}, page_content='가나다라마바사가나다라마바사가나다라마바사\\n가나다라마바사가나다라마바사\\n가나다라마바사\\n가나다라마바사')"
      ]
     },
     "execution_count": 12,
     "metadata": {},
     "output_type": "execute_result"
    }
   ],
   "source": [
    "docs[0]"
   ]
  },
  {
   "cell_type": "code",
   "execution_count": null,
   "id": "f705e616-2e17-4376-b8ba-ef0212ee303b",
   "metadata": {},
   "outputs": [],
   "source": []
  }
 ],
 "metadata": {
  "kernelspec": {
   "display_name": "Python 3 (ipykernel)",
   "language": "python",
   "name": "python3"
  },
  "language_info": {
   "codemirror_mode": {
    "name": "ipython",
    "version": 3
   },
   "file_extension": ".py",
   "mimetype": "text/x-python",
   "name": "python",
   "nbconvert_exporter": "python",
   "pygments_lexer": "ipython3",
   "version": "3.9.20"
  }
 },
 "nbformat": 4,
 "nbformat_minor": 5
}
